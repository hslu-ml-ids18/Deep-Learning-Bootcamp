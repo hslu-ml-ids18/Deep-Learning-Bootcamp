{
  "nbformat": 4,
  "nbformat_minor": 0,
  "metadata": {
    "colab": {
      "name": "Deep_Learning_bootcamp_group_project.ipynb",
      "provenance": [],
      "toc_visible": true
    },
    "kernelspec": {
      "name": "python3",
      "display_name": "Python 3"
    },
    "accelerator": "GPU"
  },
  "cells": [
    {
      "cell_type": "markdown",
      "metadata": {
        "id": "b7FPQOjnI352",
        "colab_type": "text"
      },
      "source": [
        "# Deeplearning in Vision\n",
        "Anastasiia Chebatarova, Lisa Becker, Axel Kandel, Alexander Kusche\n",
        "\n",
        "\n",
        "---\n",
        "\n",
        "This is a group project for HSLU. The focus of this project will center around object detection, namely face."
      ]
    },
    {
      "cell_type": "markdown",
      "metadata": {
        "id": "OX9mEdRuJBiL",
        "colab_type": "text"
      },
      "source": [
        "# Packages"
      ]
    },
    {
      "cell_type": "code",
      "metadata": {
        "id": "fTN6mRLIJAW9",
        "colab_type": "code",
        "colab": {
          "base_uri": "https://localhost:8080/",
          "height": 63
        },
        "outputId": "d549ddcf-678d-4ad4-aa08-df6b621b25ce"
      },
      "source": [
        "# General imports\n",
        "import sys\n",
        "import numpy as np\n",
        "import matplotlib.pyplot as plt\n",
        "from sklearn.metrics import confusion_matrix\n",
        "import tensorflow as tf\n",
        "from google.colab import drive\n",
        "\n",
        "\n",
        "# Shortcuts to keras if (however from tensorflow)\n",
        "from tensorflow.keras import applications\n",
        "from tensorflow.keras import optimizers\n",
        "from tensorflow.keras.preprocessing.image import ImageDataGenerator\n",
        "from tensorflow.keras.models import Sequential\n",
        "from tensorflow.keras.layers import Conv2D, MaxPool2D\n",
        "from tensorflow.keras.layers import Activation, Dropout, Flatten, Dense\n",
        "from tensorflow.keras.callbacks import TensorBoard "
      ],
      "execution_count": 1,
      "outputs": [
        {
          "output_type": "display_data",
          "data": {
            "text/html": [
              "<p style=\"color: red;\">\n",
              "The default version of TensorFlow in Colab will soon switch to TensorFlow 2.x.<br>\n",
              "We recommend you <a href=\"https://www.tensorflow.org/guide/migrate\" target=\"_blank\">upgrade</a> now \n",
              "or ensure your notebook will continue to use TensorFlow 1.x via the <code>%tensorflow_version 1.x</code> magic:\n",
              "<a href=\"https://colab.research.google.com/notebooks/tensorflow_version.ipynb\" target=\"_blank\">more info</a>.</p>\n"
            ],
            "text/plain": [
              "<IPython.core.display.HTML object>"
            ]
          },
          "metadata": {
            "tags": []
          }
        }
      ]
    },
    {
      "cell_type": "code",
      "metadata": {
        "id": "-0I5lg88DaRY",
        "colab_type": "code",
        "outputId": "b4c44237-9bb1-46a1-ca19-e321e778954d",
        "colab": {
          "base_uri": "https://localhost:8080/",
          "height": 122
        }
      },
      "source": [
        "# For Colab\n",
        "#drive.mount('/content/gdrive', force_remount=True)\n",
        "#root_path = '/content/gdrive/My Drive/Deep learning Bootcamp'\n",
        "#train_path = '/content/gdrive/My Drive/Deep learning Bootcamp/training_data'\n",
        "#validation_path = '/content/gdrive/My Drive/Deep learning Bootcamp/validation_data' "
      ],
      "execution_count": 3,
      "outputs": [
        {
          "output_type": "stream",
          "text": [
            "Go to this URL in a browser: https://accounts.google.com/o/oauth2/auth?client_id=947318989803-6bn6qk8qdgf4n4g3pfee6491hc0brc4i.apps.googleusercontent.com&redirect_uri=urn%3aietf%3awg%3aoauth%3a2.0%3aoob&response_type=code&scope=email%20https%3a%2f%2fwww.googleapis.com%2fauth%2fdocs.test%20https%3a%2f%2fwww.googleapis.com%2fauth%2fdrive%20https%3a%2f%2fwww.googleapis.com%2fauth%2fdrive.photos.readonly%20https%3a%2f%2fwww.googleapis.com%2fauth%2fpeopleapi.readonly\n",
            "\n",
            "Enter your authorization code:\n",
            "··········\n",
            "Mounted at /content/gdrive\n"
          ],
          "name": "stdout"
        }
      ]
    },
    {
      "cell_type": "code",
      "metadata": {
        "id": "0-cr9qatEemU",
        "colab_type": "code",
        "outputId": "17ea7563-db43-4b55-c73c-6a37b875b57b",
        "colab": {
          "base_uri": "https://localhost:8080/",
          "height": 136
        }
      },
      "source": [
        "# For Colab\n",
        "# ls /content/gdrive/'My Drive'/'Deep learning Bootcamp'"
      ],
      "execution_count": 4,
      "outputs": [
        {
          "output_type": "stream",
          "text": [
            " deepdream.ipynb\n",
            " \u001b[0m\u001b[01;34mmodels\u001b[0m/\n",
            "'Object detection.ipynb'\n",
            " Style_transfer.ipynb\n",
            " \u001b[01;34mtensorboard\u001b[0m/\n",
            "'Using Deepdreams in Fashion.gslides'\n",
            "'Using Transfer learning for Canine Object detection.gslides'\n"
          ],
          "name": "stdout"
        }
      ]
    },
    {
      "cell_type": "code",
      "metadata": {
        "id": "Sr4wirZf-VOX",
        "colab_type": "code",
        "colab": {}
      },
      "source": [
        ""
      ],
      "execution_count": 0,
      "outputs": []
    }
  ]
}